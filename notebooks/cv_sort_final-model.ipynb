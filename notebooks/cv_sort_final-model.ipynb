{
 "cells": [
  {
   "cell_type": "code",
   "execution_count": 1,
   "id": "8c8ef87c-0a23-4f67-a2b7-1a0225aac952",
   "metadata": {},
   "outputs": [],
   "source": [
    "import os\n",
    "from sentence_transformers import SentenceTransformer, util\n",
    "import torch\n",
    "import pandas as pd\n"
   ]
  },
  {
   "cell_type": "code",
   "execution_count": 2,
   "id": "370d82e8-6622-46ee-95a1-41a340e293e8",
   "metadata": {},
   "outputs": [],
   "source": [
    "model = SentenceTransformer('all-MiniLM-L6-v2')"
   ]
  },
  {
   "cell_type": "code",
   "execution_count": null,
   "id": "e63eae53-a1fc-40ba-a27f-a26460df4af2",
   "metadata": {},
   "outputs": [],
   "source": [
    "from utils.pdf_reader import extract_all_resumes_text\n",
    "resume_names, resume_texts =  extract_all_resumes_text(\"../data/resumes/INFORMATION-TECHNOLOGY\")\n",
    "with open(\"../data/job_description.txt\", \"r\") as f:\n",
    "    job_description = f.read()"
   ]
  }
 ],
 "metadata": {
  "kernelspec": {
   "display_name": "Python (cv_sorter)",
   "language": "python",
   "name": "cv_sorter_env"
  },
  "language_info": {
   "codemirror_mode": {
    "name": "ipython",
    "version": 3
   },
   "file_extension": ".py",
   "mimetype": "text/x-python",
   "name": "python",
   "nbconvert_exporter": "python",
   "pygments_lexer": "ipython3",
   "version": "3.12.1"
  }
 },
 "nbformat": 4,
 "nbformat_minor": 5
}
