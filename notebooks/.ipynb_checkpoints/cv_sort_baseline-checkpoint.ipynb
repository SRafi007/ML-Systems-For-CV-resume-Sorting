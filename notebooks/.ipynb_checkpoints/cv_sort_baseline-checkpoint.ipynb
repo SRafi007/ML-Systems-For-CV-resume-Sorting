{
 "cells": [
  {
   "cell_type": "code",
   "execution_count": null,
   "id": "d5c3af7c-c770-4bda-a6dd-84956bdb5d18",
   "metadata": {},
   "outputs": [],
   "source": [
    "import pandas as pd\n",
    "import numpy as np\n",
    "import nltk\n",
    "nltk.download(\"punkt\")\n",
    "nltk.download(\"stopwords\")"
   ]
  }
 ],
 "metadata": {
  "kernelspec": {
   "display_name": "Python (cv_sorter)",
   "language": "python",
   "name": "cv_sorter_env"
  },
  "language_info": {
   "codemirror_mode": {
    "name": "ipython",
    "version": 3
   },
   "file_extension": ".py",
   "mimetype": "text/x-python",
   "name": "python",
   "nbconvert_exporter": "python",
   "pygments_lexer": "ipython3",
   "version": "3.12.1"
  }
 },
 "nbformat": 4,
 "nbformat_minor": 5
}
