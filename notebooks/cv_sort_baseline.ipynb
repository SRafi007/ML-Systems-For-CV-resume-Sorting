{
 "cells": [
  {
   "cell_type": "code",
   "execution_count": 1,
   "id": "d5c3af7c-c770-4bda-a6dd-84956bdb5d18",
   "metadata": {},
   "outputs": [
    {
     "name": "stderr",
     "output_type": "stream",
     "text": [
      "[nltk_data] Downloading package punkt to\n",
      "[nltk_data]     C:\\Users\\Rafi\\AppData\\Roaming\\nltk_data...\n",
      "[nltk_data]   Package punkt is already up-to-date!\n",
      "[nltk_data] Downloading package stopwords to\n",
      "[nltk_data]     C:\\Users\\Rafi\\AppData\\Roaming\\nltk_data...\n",
      "[nltk_data]   Package stopwords is already up-to-date!\n"
     ]
    },
    {
     "data": {
      "text/plain": [
       "True"
      ]
     },
     "execution_count": 1,
     "metadata": {},
     "output_type": "execute_result"
    }
   ],
   "source": [
    "import pandas as pd\n",
    "import numpy as np\n",
    "from sklearn.feature_extraction.text import TfidfVectorizer\n",
    "from sklearn.metrics.pairwise import cosine_similarity\n",
    "\n",
    "import nltk\n",
    "nltk.download(\"punkt\")\n",
    "nltk.download(\"stopwords\")"
   ]
  },
  {
   "cell_type": "code",
   "execution_count": 2,
   "id": "7de58be7-a2e7-488c-a0b2-d8de9f22921d",
   "metadata": {},
   "outputs": [],
   "source": [
    "from tqdm import tqdm\n",
    "import os"
   ]
  },
  {
   "cell_type": "code",
   "execution_count": 3,
   "id": "517c9cdb-9059-436b-8d6c-d14165513146",
   "metadata": {},
   "outputs": [],
   "source": [
    "resume_dir = '../data/resumes/'\n",
    "job_desc_path = '../data//job_descs/job1.txt'"
   ]
  },
  {
   "cell_type": "code",
   "execution_count": 4,
   "id": "453e5cf1-675b-4277-bbec-f022e4430dde",
   "metadata": {},
   "outputs": [
    {
     "name": "stdout",
     "output_type": "stream",
     "text": [
      "loaded 5 resumes.\n"
     ]
    }
   ],
   "source": [
    "resumes = []\n",
    "resume_names = []\n",
    "\n",
    "for file in os.listdir(resume_dir):\n",
    "    with open(os.path.join(resume_dir, file), \"r\", encoding = \"utf-8\") as f:\n",
    "              resumes.append(f.read())\n",
    "              resume_names.append(file)\n",
    "\n",
    "\n",
    "with open(job_desc_path, \"r\", encoding = \"utf-8\") as f:\n",
    "    job_description = f.read()\n",
    "    print(\"loaded\", len(resumes), \"resumes.\")"
   ]
  },
  {
   "cell_type": "code",
   "execution_count": 5,
   "id": "eb6a502b-6140-4b34-a54b-ff5299300416",
   "metadata": {},
   "outputs": [
    {
     "data": {
      "text/plain": [
       "['resume1.txt', 'resume2.txt', 'resume3.txt', 'resume4.txt', 'resume5.txt']"
      ]
     },
     "execution_count": 5,
     "metadata": {},
     "output_type": "execute_result"
    }
   ],
   "source": [
    "resume_names"
   ]
  },
  {
   "cell_type": "code",
   "execution_count": 6,
   "id": "2ca58a8a-ab21-4d58-91eb-e059ce8e8502",
   "metadata": {},
   "outputs": [
    {
     "name": "stdout",
     "output_type": "stream",
     "text": [
      "        Resume  Similarity Score\n",
      "0  resume1.txt          0.663844\n",
      "1  resume3.txt          0.193707\n",
      "2  resume2.txt          0.153397\n",
      "3  resume4.txt          0.102184\n",
      "4  resume5.txt          0.024873\n"
     ]
    }
   ],
   "source": [
    "documents = [job_description]+resumes\n",
    "#TF-IDF\n",
    "vectorizer = TfidfVectorizer(stop_words=\"english\")\n",
    "tfid_matrix  = vectorizer.fit_transform(documents)\n",
    "cos_similarities = cosine_similarity(tfid_matrix[0:1], tfid_matrix[1:]). flatten()\n",
    "\n",
    "#rank\n",
    "ranking = sorted(zip(resume_names, cos_similarities), key =  lambda x: x[1], reverse = True)\n",
    "# Display results\n",
    "df = pd.DataFrame(ranking, columns=[\"Resume\", \"Similarity Score\"])\n",
    "print(df)"
   ]
  },
  {
   "cell_type": "code",
   "execution_count": null,
   "id": "7d94a3b0-edf7-49cf-85d1-3a7eb9acba41",
   "metadata": {},
   "outputs": [],
   "source": []
  }
 ],
 "metadata": {
  "kernelspec": {
   "display_name": "Python (cv_sorter)",
   "language": "python",
   "name": "cv_sorter_env"
  },
  "language_info": {
   "codemirror_mode": {
    "name": "ipython",
    "version": 3
   },
   "file_extension": ".py",
   "mimetype": "text/x-python",
   "name": "python",
   "nbconvert_exporter": "python",
   "pygments_lexer": "ipython3",
   "version": "3.12.1"
  }
 },
 "nbformat": 4,
 "nbformat_minor": 5
}
