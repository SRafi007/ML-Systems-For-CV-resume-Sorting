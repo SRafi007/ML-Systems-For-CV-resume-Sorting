{
 "cells": [
  {
   "cell_type": "code",
   "execution_count": 3,
   "id": "72c04eba-608a-47fc-b541-5f1775eeffd4",
   "metadata": {},
   "outputs": [],
   "source": [
    "import pandas as pd\n",
    "import numpy as np\n",
    "from sklearn.feature_extraction.text import TfidfVectorizer\n",
    "from sklearn.metrics.pairwise import cosine_similarity\n",
    "from sentence_transformers import SentenceTransformer, util\n",
    "import torch\n",
    "import os"
   ]
  },
  {
   "cell_type": "code",
   "execution_count": 4,
   "id": "ed95f86b-0f24-486d-a91e-6ed8ac4cdbb0",
   "metadata": {},
   "outputs": [
    {
     "name": "stdout",
     "output_type": "stream",
     "text": [
      "loaded 5 resumes.\n"
     ]
    }
   ],
   "source": [
    "resume_dir = '../data/resumes/'\n",
    "job_desc_path = '../data//job_descs/job1.txt'\n",
    "resumes = []\n",
    "resume_names = []\n",
    "\n",
    "for file in os.listdir(resume_dir):\n",
    "    with open(os.path.join(resume_dir, file), \"r\", encoding = \"utf-8\") as f:\n",
    "              resumes.append(f.read())\n",
    "              resume_names.append(file)\n",
    "\n",
    "\n",
    "with open(job_desc_path, \"r\", encoding = \"utf-8\") as f:\n",
    "    job_description = f.read()\n",
    "    print(\"loaded\", len(resumes), \"resumes.\")"
   ]
  },
  {
   "cell_type": "code",
   "execution_count": 7,
   "id": "9bcbc46d-6543-45b8-b218-d8da49c85ba8",
   "metadata": {},
   "outputs": [
    {
     "name": "stdout",
     "output_type": "stream",
     "text": [
      "       resumes     Score\n",
      "0  resume1.txt  0.705527\n",
      "1  resume3.txt  0.558199\n",
      "2  resume2.txt  0.474157\n",
      "3  resume4.txt  0.365377\n",
      "4  resume5.txt  0.283162\n"
     ]
    }
   ],
   "source": [
    "model = SentenceTransformer('all-MiniLM-L6-V2')\n",
    "\n",
    "resume_embeddings = model.encode(resumes, convert_to_tensor=True)\n",
    "job_embedding = model.encode(job_description, convert_to_tensor=True)\n",
    "\n",
    "cos_score = util.cos_sim(job_embedding, resume_embeddings)[0]\n",
    "scores = [(resume_names[i], float(cos_score[i])) for i in range(len(resume_names))]\n",
    "scores =  sorted(scores, key=lambda x:x[1], reverse=True)\n",
    "\n",
    "df = pd.DataFrame(scores, columns= [\"resumes\", \" Score\"])\n",
    "print(df)"
   ]
  },
  {
   "cell_type": "code",
   "execution_count": null,
   "id": "f64b2fe3-6045-4c7a-866f-ecd83c723901",
   "metadata": {},
   "outputs": [],
   "source": []
  }
 ],
 "metadata": {
  "kernelspec": {
   "display_name": "Python (cv_sorter)",
   "language": "python",
   "name": "cv_sorter_env"
  },
  "language_info": {
   "codemirror_mode": {
    "name": "ipython",
    "version": 3
   },
   "file_extension": ".py",
   "mimetype": "text/x-python",
   "name": "python",
   "nbconvert_exporter": "python",
   "pygments_lexer": "ipython3",
   "version": "3.12.1"
  }
 },
 "nbformat": 4,
 "nbformat_minor": 5
}
